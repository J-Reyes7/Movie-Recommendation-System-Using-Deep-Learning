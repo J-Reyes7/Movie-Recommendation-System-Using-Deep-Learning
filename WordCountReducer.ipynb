#!/usr/bin/env python3
# -*- coding: utf-8 -*-
"""
Created on Sun Apr 18 11:52:03 2021

@authors: josereyes, chaitanyauppuluri
"""



import sys 
import json
import xmltodict
import xml.etree.ElementTree as ElementTree

#xml_file=sys.stdin
#tree = ElementTree.parse(r'C:/Users/josereyes\Documents/CSE 587/Project2/Lead Authors/SargurNSrihari.xml')
import os
import mapper
import itertools
keys= mapper.map()
output = dict()
count = False

for k in keys:
    val = [k[1],k[2]]
    if k[0] not in output:
        output.update({k[0]:[]})    
        output[k[0]].append(val)

    else:
        for tup in output[k[0]]:
            if k[1] in tup:
                print("Duplicate exists")
                tup[1] = tup[1]+1
                count=True

        if count==False:
            output[k[0]].append(val)

print("Main Authors : ",output.keys())
#for i in output.keys():
 #   print("{ %s: "%(i))
#    for j in output[i]:
#        print("[%s,%i]\t"%(j[0],j[1])) 
#    print("\n}")
print("\nvalues = [co-author, co-occurance_count]\n")
print("Output key-value pairs : {")
for key, value in output.items():
        print("{} : (\t{}\t)\n".format(key, value))
print("}")
print("\n\nOur dataset doesnot contain duplicate co-authors for a main author. \nSo all the co-occurances are 1.\nOtherwise, it would have printed 'Duplicate exists' and incremented counter")