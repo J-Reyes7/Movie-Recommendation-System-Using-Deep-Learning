#!/usr/bin/env python3

# -*- coding: utf-8 -*-

"""

Created on Sat Apr 17 17:28:03 2021



@authors: josereyes, chaitanyauppuluri

"""





import sys 

import json

import xmltodict

import xml.etree.ElementTree as ElementTree





import os



def map():

    directory = '/Users/josereyes/Documents/LeadAuthors'

    LeadAuthor= dict()

    key_val = []

    for filename in os.listdir(directory):

        f = os.path.join(directory, filename)

        tree = ElementTree.parse(f)

        xml_data = tree.getroot()

        xml_input = ElementTree.tostring(xml_data, encoding='utf-8', method='xml')

        

        #data_dict = xmltodict.parse(r'C:\Users\LENOVO\Desktop\Spring 2021\_Spring 2021\Data Intensive Computing\New folder\SargurNSrihari.xml')

        data_dict = xmltodict.parse(xml_input)

        

        #sys.stdin.close()

        json_data = json.dumps(data_dict)

        data=json.loads(json_data)

        LeadAuthor.update({data['dblpperson']['@name']:[]})

        #print(LeadAuthor)

        for e in data['dblpperson']['coauthors']['co']:

            if type(e['na']) is list:

                key_val.append((data['dblpperson']['@name'],e['na'][0]['#text'],1))

                #LeadAuthor[data['dblpperson']['@name']].append((e['na'][0]['#text']))

                #print('%s\t%s' % key_val)

                continue

            key_val.append((data['dblpperson']['@name'],e['na']['#text'],1))

        #Print(key_val)

    return key_val



def Print(key_val):

    for val in key_val:

        print(val,"\t")

    print("\n")

            

    

k = map()

#Print(k)